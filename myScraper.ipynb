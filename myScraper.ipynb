{
 "cells": [
  {
   "cell_type": "code",
   "execution_count": 1,
   "metadata": {},
   "outputs": [],
   "source": [
    "import requests\n",
    "from bs4 import BeautifulSoup\n",
    "\n",
    "import numpy as np\n",
    "import pandas as pd\n",
    "\n",
    "%matplotlib inline\n",
    "import matplotlib"
   ]
  },
  {
   "cell_type": "code",
   "execution_count": 2,
   "metadata": {},
   "outputs": [
    {
     "name": "stdout",
     "output_type": "stream",
     "text": [
      "['japanese-white-eye', 'red-crowned-crane', 'eurasian-sparrowhawk', 'japanese-pygmy-woodpecker', \"steller's-sea-eagle\", 'oriental-stork', 'black-faced-spoonbill', 'mandarin-duck', 'ryukyu-scops-owl', 'japanese-paradise-flycatcher', 'amami-woodcock', 'japanese-grosbeak', \"blakiston's-fish-owl\", 'japanese-robin', 'copper-pheasant', \"lidth's-jay\", 'japanese-waxwing', 'japanese-green-pigeon', 'okinawa-rail', 'fairy-pitta', 'japanese-accentor']\n"
     ]
    }
   ],
   "source": [
    "import json\n",
    "\n",
    "# Load the list of cities from the JSON file\n",
    "with open(\"JSON/bird_cats.json\", 'r') as file:\n",
    "    items = json.load(file)\n",
    "\n",
    "# Process each city name\n",
    "processed_items = []\n",
    "for item in items:\n",
    "    city_lower = item.lower().replace(\" \", \"-\")\n",
    "    processed_items.append(city_lower)\n",
    "\n",
    "# Print the processed list\n",
    "print(processed_items)\n",
    "\n",
    "# Optionally, save the processed list to a new JSON file\n",
    "# with open('processed_urban_area_list.json', 'w') as file:\n",
    "#     json.dump(processed_cities, file, indent=2)\n"
   ]
  },
  {
   "cell_type": "code",
   "execution_count": 7,
   "metadata": {},
   "outputs": [
    {
     "name": "stdout",
     "output_type": "stream",
     "text": [
      "HTML content saved to los-angeles-city.html\n",
      "https://plus.unsplash.com/premium_photo-1661865883617-5d8c16858a17?q=80&w=1000&auto=format&fit=crop&ixlib=rb-4.0.3&ixid=M3wxMjA3fDB8MHxzZWFyY2h8MXx8bG9zJTIwYW5nZWxlcyUyMGNpdHl8ZW58MHx8MHx8fDA%3D\n",
      "https://plus.unsplash.com/premium_photo-1664303893976-e2f635373666?q=80&w=1000&auto=format&fit=crop&ixlib=rb-4.0.3&ixid=M3wxMjA3fDB8MHxzZWFyY2h8NXx8bG9zJTIwYW5nZWxlcyUyMGNpdHl8ZW58MHx8MHx8fDA%3D\n",
      "https://plus.unsplash.com/premium_photo-1661871317420-55bfc0895b4e?q=80&w=1000&auto=format&fit=crop&ixlib=rb-4.0.3&ixid=M3wxMjA3fDB8MHxzZWFyY2h8OXx8bG9zJTIwYW5nZWxlcyUyMGNpdHl8ZW58MHx8MHx8fDA%3D\n",
      "https://plus.unsplash.com/premium_photo-1694475331179-11fa3c87060e?q=80&w=1000&auto=format&fit=crop&ixlib=rb-4.0.3&ixid=M3wxMjA3fDB8MHxzZWFyY2h8MTN8fGxvcyUyMGFuZ2VsZXMlMjBjaXR5fGVufDB8fDB8fHww\n",
      "https://plus.unsplash.com/premium_photo-1664303841975-a47234e91587?q=80&w=1000&auto=format&fit=crop&ixlib=rb-4.0.3&ixid=M3wxMjA3fDB8MHxzZWFyY2h8MTd8fGxvcyUyMGFuZ2VsZXMlMjBjaXR5fGVufDB8fDB8fHww\n",
      "https://plus.unsplash.com/premium_photo-1661865883617-5d8c16858a17?q=80&w=1000&auto=format&fit=crop&ixlib=rb-4.0.3&ixid=M3wxMjA3fDB8MHxzZWFyY2h8MXx8bG9zJTIwYW5nZWxlcyUyMGNpdHl8ZW58MHx8MHx8fDA%3D\n",
      "https://plus.unsplash.com/premium_photo-1694475331179-11fa3c87060e?q=80&w=1000&auto=format&fit=crop&ixlib=rb-4.0.3&ixid=M3wxMjA3fDB8MHxzZWFyY2h8MTN8fGxvcyUyMGFuZ2VsZXMlMjBjaXR5fGVufDB8fDB8fHww\n",
      "https://plus.unsplash.com/premium_photo-1664303893976-e2f635373666?q=80&w=1000&auto=format&fit=crop&ixlib=rb-4.0.3&ixid=M3wxMjA3fDB8MHxzZWFyY2h8NXx8bG9zJTIwYW5nZWxlcyUyMGNpdHl8ZW58MHx8MHx8fDA%3D\n",
      "https://plus.unsplash.com/premium_photo-1661871317420-55bfc0895b4e?q=80&w=1000&auto=format&fit=crop&ixlib=rb-4.0.3&ixid=M3wxMjA3fDB8MHxzZWFyY2h8OXx8bG9zJTIwYW5nZWxlcyUyMGNpdHl8ZW58MHx8MHx8fDA%3D\n",
      "https://plus.unsplash.com/premium_photo-1664303841975-a47234e91587?q=80&w=1000&auto=format&fit=crop&ixlib=rb-4.0.3&ixid=M3wxMjA3fDB8MHxzZWFyY2h8MTd8fGxvcyUyMGFuZ2VsZXMlMjBjaXR5fGVufDB8fDB8fHww\n",
      "https://plus.unsplash.com/premium_photo-1661865883617-5d8c16858a17?q=80&w=1000&auto=format&fit=crop&ixlib=rb-4.0.3&ixid=M3wxMjA3fDB8MHxzZWFyY2h8MXx8bG9zJTIwYW5nZWxlcyUyMGNpdHl8ZW58MHx8MHx8fDA%3D\n",
      "https://plus.unsplash.com/premium_photo-1694475331179-11fa3c87060e?q=80&w=1000&auto=format&fit=crop&ixlib=rb-4.0.3&ixid=M3wxMjA3fDB8MHxzZWFyY2h8MTN8fGxvcyUyMGFuZ2VsZXMlMjBjaXR5fGVufDB8fDB8fHww\n",
      "https://plus.unsplash.com/premium_photo-1661871317420-55bfc0895b4e?q=80&w=1000&auto=format&fit=crop&ixlib=rb-4.0.3&ixid=M3wxMjA3fDB8MHxzZWFyY2h8OXx8bG9zJTIwYW5nZWxlcyUyMGNpdHl8ZW58MHx8MHx8fDA%3D\n",
      "https://plus.unsplash.com/premium_photo-1664303841975-a47234e91587?q=80&w=1000&auto=format&fit=crop&ixlib=rb-4.0.3&ixid=M3wxMjA3fDB8MHxzZWFyY2h8MTd8fGxvcyUyMGFuZ2VsZXMlMjBjaXR5fGVufDB8fDB8fHww\n",
      "https://plus.unsplash.com/premium_photo-1664303893976-e2f635373666?q=80&w=1000&auto=format&fit=crop&ixlib=rb-4.0.3&ixid=M3wxMjA3fDB8MHxzZWFyY2h8NXx8bG9zJTIwYW5nZWxlcyUyMGNpdHl8ZW58MHx8MHx8fDA%3D\n"
     ]
    }
   ],
   "source": [
    "city = \"los-angeles-city\"\n",
    "url = f\"https://unsplash.com/s/photos/{city}\"\n",
    "\n",
    "response = requests.get(url)\n",
    "soup = BeautifulSoup(response.content, \"html.parser\")\n",
    "\n",
    "# Save the parsed HTML content to a local file\n",
    "with open(f\"{city}.html\", \"w\", encoding=\"utf-8\") as file:\n",
    "    file.write(str(soup.prettify()))\n",
    "\n",
    "print(f\"HTML content saved to {city}.html\")\n",
    "\n",
    "\n",
    "# Find all `img` tags\n",
    "img_tags = soup.find_all(\"img\")\n",
    "\n",
    "# Extract the `src` attribute from each `img` tag that starts with \"https://plus.unsplash.com/\"\n",
    "img_urls = [img['src'] for img in img_tags if 'src' in img.attrs and img['src'].startswith(\"https://plus.unsplash.com/\")]\n",
    "\n",
    "# Optionally, save the URLs to a file\n",
    "with open(\"plus_unsplash_image_urls.txt\", \"w\") as file:\n",
    "    for url in img_urls:\n",
    "        file.write(url + \"\\n\")\n",
    "\n",
    "# Print the extracted URLs\n",
    "for url in img_urls:\n",
    "    print(url)"
   ]
  },
  {
   "cell_type": "code",
   "execution_count": 3,
   "metadata": {},
   "outputs": [],
   "source": [
    "# for item in items:\n",
    "#     url = f\"https://unsplash.com/s/photos/{item}\"\n",
    "\n",
    "#     response = requests.get(url)\n",
    "#     soup = BeautifulSoup(response.content, \"html.parser\")\n",
    "\n",
    "#     # Find all `img` tags\n",
    "#     img_tags = soup.find_all(\"img\")\n",
    "\n",
    "#     # Extract the `src` attribute from each `img` tag that starts with \"https://plus.unsplash.com/\"\n",
    "#     img_urls = [img['src'] for img in img_tags if 'src' in img.attrs and img['src'].startswith(\"https://plus.unsplash.com/\")]\n",
    "\n",
    "#     print(f\"{city}:\")\n",
    "#     print(img_urls[1], \"/n\") if len(img_urls) > 1 else print(\"No images found\")\n"
   ]
  },
  {
   "cell_type": "code",
   "execution_count": 4,
   "metadata": {},
   "outputs": [
    {
     "name": "stdout",
     "output_type": "stream",
     "text": [
      "Japanese White Eye: https://plus.unsplash.com/premium_photo-1668198624500-b3a3286d0649?q=80&w=1000&auto=format&fit=crop&ixlib=rb-4.0.3&ixid=M3wxMjA3fDB8MHxzZWFyY2h8NXx8amFwYW5lc2UlMjB3aGl0ZSUyMGV5ZXxlbnwwfHwwfHx8MA%3D%3D\n",
      "Red-crowned Crane: https://plus.unsplash.com/premium_photo-1661899540706-3b8ef14df368?q=80&w=1000&auto=format&fit=crop&ixlib=rb-4.0.3&ixid=M3wxMjA3fDB8MHxzZWFyY2h8NXx8cmVkJTIwY3Jvd25lZCUyMGNyYW5lfGVufDB8fDB8fHww\n",
      "Eurasian Sparrowhawk: https://plus.unsplash.com/premium_photo-1667685540549-576658d923b2?q=80&w=1000&auto=format&fit=crop&ixlib=rb-4.0.3&ixid=M3wxMjA3fDB8MHxzZWFyY2h8NXx8ZXVyYXNpYW4lMjBzcGFycm93aGF3a3xlbnwwfHwwfHx8MA%3D%3D\n",
      "Japanese Pygmy Woodpecker: https://plus.unsplash.com/premium_photo-1664302729935-962ba55db15a?q=80&w=1000&auto=format&fit=crop&ixlib=rb-4.0.3&ixid=M3wxMjA3fDB8MHxzZWFyY2h8NXx8amFwYW5lc2UlMjBweWdteSUyMHdvb2RwZWNrZXJ8ZW58MHx8MHx8fDA%3D\n",
      "Steller's Sea Eagle: https://plus.unsplash.com/premium_photo-1661876880987-ba2efad30296?q=80&w=1000&auto=format&fit=crop&ixlib=rb-4.0.3&ixid=M3wxMjA3fDB8MHxzZWFyY2h8NXx8c3RlbGxlcidzJTIwc2VhJTIwZWFnbGV8ZW58MHx8MHx8fDA%3D\n",
      "Oriental Stork: https://plus.unsplash.com/premium_photo-1661963709469-90b3a2ee4b38?q=80&w=1000&auto=format&fit=crop&ixlib=rb-4.0.3&ixid=M3wxMjA3fDB8MHxzZWFyY2h8NXx8b3JpZW50YWwlMjBzdG9ya3xlbnwwfHwwfHx8MA%3D%3D\n",
      "Black-faced Spoonbill: https://plus.unsplash.com/premium_photo-1675356730958-7344820f6cfa?q=80&w=1000&auto=format&fit=crop&ixlib=rb-4.0.3&ixid=M3wxMjA3fDB8MHxzZWFyY2h8NXx8YmxhY2slMjBmYWNlZCUyMHNwb29uYmlsbHxlbnwwfHwwfHx8MA%3D%3D\n",
      "Mandarin Duck: https://plus.unsplash.com/premium_photo-1700028097815-d42c0267bcae?q=80&w=1000&auto=format&fit=crop&ixlib=rb-4.0.3&ixid=M3wxMjA3fDB8MHxzZWFyY2h8NXx8bWFuZGFyaW4lMjBkdWNrfGVufDB8fDB8fHww\n",
      "Ryukyu Scops Owl: https://plus.unsplash.com/premium_photo-1664304409780-6d31241e9058?q=80&w=1000&auto=format&fit=crop&ixlib=rb-4.0.3&ixid=M3wxMjA3fDB8MHxzZWFyY2h8NXx8cnl1a3l1JTIwc2NvcHMlMjBvd2x8ZW58MHx8MHx8fDA%3D\n",
      "Japanese Paradise Flycatcher: https://plus.unsplash.com/premium_photo-1712067481492-ecdcd1d39a18?q=80&w=1000&auto=format&fit=crop&ixlib=rb-4.0.3&ixid=M3wxMjA3fDB8MHxzZWFyY2h8NXx8amFwYW5lc2UlMjBwYXJhZGlzZSUyMGZseWNhdGNoZXJ8ZW58MHx8MHx8fDA%3D\n",
      "Amami Woodcock: https://plus.unsplash.com/premium_photo-1667238654062-9885fbaf040f?q=80&w=1000&auto=format&fit=crop&ixlib=rb-4.0.3&ixid=M3wxMjA3fDB8MHxzZWFyY2h8NXx8YW1hbWklMjB3b29kY29ja3xlbnwwfHwwfHx8MA%3D%3D\n",
      "Japanese Grosbeak: https://plus.unsplash.com/premium_photo-1667239367785-fe20d7563248?q=80&w=1000&auto=format&fit=crop&ixlib=rb-4.0.3&ixid=M3wxMjA3fDB8MHxzZWFyY2h8NXx8amFwYW5lc2UlMjBncm9zYmVha3xlbnwwfHwwfHx8MA%3D%3D\n",
      "Blakiston's Fish Owl: https://plus.unsplash.com/premium_photo-1661822963839-f0d269357d09?q=80&w=1000&auto=format&fit=crop&ixlib=rb-4.0.3&ixid=M3wxMjA3fDB8MHxzZWFyY2h8NXx8Ymxha2lzdG9uJ3MlMjBmaXNoJTIwb3dsfGVufDB8fDB8fHww\n",
      "Japanese Robin: https://plus.unsplash.com/premium_photo-1667239480005-0a2b5a98471b?q=80&w=1000&auto=format&fit=crop&ixlib=rb-4.0.3&ixid=M3wxMjA3fDB8MHxzZWFyY2h8NXx8amFwYW5lc2UlMjByb2JpbnxlbnwwfHwwfHx8MA%3D%3D\n",
      "Copper Pheasant: https://plus.unsplash.com/premium_photo-1667239109733-2e21ca044481?q=80&w=1000&auto=format&fit=crop&ixlib=rb-4.0.3&ixid=M3wxMjA3fDB8MHxzZWFyY2h8NXx8Y29wcGVyJTIwcGhlYXNhbnR8ZW58MHx8MHx8fDA%3D\n",
      "Lidth's Jay: None\n",
      "Japanese Waxwing: https://plus.unsplash.com/premium_photo-1676070096479-4460a9ba20d1?q=80&w=1000&auto=format&fit=crop&ixlib=rb-4.0.3&ixid=M3wxMjA3fDB8MHxzZWFyY2h8NXx8amFwYW5lc2UlMjB3YXh3aW5nfGVufDB8fDB8fHww\n",
      "Japanese Green Pigeon: https://plus.unsplash.com/premium_photo-1667099521652-1e89d8fc7b77?q=80&w=1000&auto=format&fit=crop&ixlib=rb-4.0.3&ixid=M3wxMjA3fDB8MHxzZWFyY2h8NXx8amFwYW5lc2UlMjBncmVlbiUyMHBpZ2VvbnxlbnwwfHwwfHx8MA%3D%3D\n",
      "Okinawa Rail: https://plus.unsplash.com/premium_photo-1668061706967-9e19e3ad5479?q=80&w=1000&auto=format&fit=crop&ixlib=rb-4.0.3&ixid=M3wxMjA3fDB8MHxzZWFyY2h8NXx8b2tpbmF3YSUyMHJhaWx8ZW58MHx8MHx8fDA%3D\n",
      "Fairy Pitta: https://plus.unsplash.com/premium_photo-1710248799422-7896ab07f0bc?q=80&w=1000&auto=format&fit=crop&ixlib=rb-4.0.3&ixid=M3wxMjA3fDB8MHxzZWFyY2h8NXx8ZmFpcnklMjBwaXR0YXxlbnwwfHwwfHx8MA%3D%3D\n",
      "Japanese Accentor: https://plus.unsplash.com/premium_photo-1670689708070-7cd860ad81a1?q=80&w=1000&auto=format&fit=crop&ixlib=rb-4.0.3&ixid=M3wxMjA3fDB8MHxzZWFyY2h8NXx8amFwYW5lc2UlMjBhY2NlbnRvcnxlbnwwfHwwfHx8MA%3D%3D\n",
      "Results saved to bird_img_urls.json\n"
     ]
    }
   ],
   "source": [
    "# Dictionary to store the results\n",
    "results = {}\n",
    "\n",
    "# Fetch image URLs for each city\n",
    "for item, orig_item in zip(processed_items, items):\n",
    "    url = f\"https://unsplash.com/s/photos/{item}\"\n",
    "\n",
    "    response = requests.get(url)\n",
    "    soup = BeautifulSoup(response.content, \"html.parser\")\n",
    "\n",
    "    # Find all `img` tags\n",
    "    img_tags = soup.find_all(\"img\")\n",
    "\n",
    "    # Extract the `src` attribute from each `img` tag that starts with \"https://plus.unsplash.com/\"\n",
    "    img_urls = [img['src'] for img in img_tags if 'src' in img.attrs and img['src'].startswith(\"https://plus.unsplash.com/\")]\n",
    "\n",
    "    # Use the second image if available, otherwise use null\n",
    "    if len(img_urls) > 1:\n",
    "        results[orig_item] = img_urls[1]\n",
    "    elif len(img_urls) > 0:\n",
    "        results[orig_item] = img_urls[0]\n",
    "    else:\n",
    "        results[orig_item] = None\n",
    "\n",
    "    # Print the results for debugging purposes\n",
    "    print(f\"{orig_item}: {results[orig_item]}\")\n",
    "\n",
    "    # Sleep for 1 second between requests\n",
    "    # time.sleep(1)\n",
    "\n",
    "# Write the results to a JSON file\n",
    "with open('output/bird_img_urls.json', 'w') as file:\n",
    "    json.dump(results, file, indent=2)\n",
    "\n",
    "print(\"Results saved to bird_img_urls.json\")"
   ]
  },
  {
   "cell_type": "code",
   "execution_count": 20,
   "metadata": {},
   "outputs": [],
   "source": [
    "# Write the results to a JSON file\n",
    "with open('city_image_urls.json', 'w') as file:\n",
    "    json.dump(results, file, indent=2)\n"
   ]
  },
  {
   "cell_type": "code",
   "execution_count": 17,
   "metadata": {},
   "outputs": [
    {
     "name": "stdout",
     "output_type": "stream",
     "text": [
      "Aarhus: https://plus.unsplash.com/premium_photo-1715954843149-84d682442e6a?q=80&w=1000&auto=format&fit=crop&ixlib=rb-4.0.3&ixid=M3wxMjA3fDB8MHxzZWFyY2h8NXx8YWFyaHVzJTIwY2l0eXxlbnwwfHwwfHx8MA%3D%3D\n",
      "Adelaide: https://plus.unsplash.com/premium_photo-1715954843149-84d682442e6a?q=80&w=1000&auto=format&fit=crop&ixlib=rb-4.0.3&ixid=M3wxMjA3fDB8MHxzZWFyY2h8NXx8YWRlbGFpZGUlMjBjaXR5fGVufDB8fDB8fHww\n",
      "Albuquerque: https://plus.unsplash.com/premium_photo-1672097247790-234855b64f1a?q=80&w=1000&auto=format&fit=crop&ixlib=rb-4.0.3&ixid=M3wxMjA3fDB8MHxzZWFyY2h8NXx8YWxidXF1ZXJxdWUlMjBjaXR5fGVufDB8fDB8fHww\n",
      "Almaty: https://plus.unsplash.com/premium_photo-1675419760565-4a9077f0971d?q=80&w=1000&auto=format&fit=crop&ixlib=rb-4.0.3&ixid=M3wxMjA3fDB8MHxzZWFyY2h8NXx8YWxtYXR5JTIwY2l0eXxlbnwwfHwwfHx8MA%3D%3D\n",
      "Amsterdam: https://plus.unsplash.com/premium_photo-1677653126467-fb0fc59a9cde?q=80&w=1000&auto=format&fit=crop&ixlib=rb-4.0.3&ixid=M3wxMjA3fDB8MHxzZWFyY2h8NXx8YW1zdGVyZGFtJTIwY2l0eXxlbnwwfHwwfHx8MA%3D%3D\n",
      "Anchorage: https://plus.unsplash.com/premium_photo-1694475442325-4e0055fe2dac?q=80&w=1000&auto=format&fit=crop&ixlib=rb-4.0.3&ixid=M3wxMjA3fDB8MHxzZWFyY2h8NXx8YW5jaG9yYWdlJTIwY2l0eXxlbnwwfHwwfHx8MA%3D%3D\n",
      "Andorra: None\n",
      "Ankara: https://plus.unsplash.com/premium_photo-1712727635489-44446d0f0969?q=80&w=1000&auto=format&fit=crop&ixlib=rb-4.0.3&ixid=M3wxMjA3fDB8MHxzZWFyY2h8NXx8YW5rYXJhJTIwY2l0eXxlbnwwfHwwfHx8MA%3D%3D\n",
      "Asheville: https://plus.unsplash.com/premium_photo-1674160595863-e5a29e4a695b?q=80&w=1000&auto=format&fit=crop&ixlib=rb-4.0.3&ixid=M3wxMjA3fDB8MHxzZWFyY2h8NXx8YXNoZXZpbGxlJTIwY2l0eXxlbnwwfHwwfHx8MA%3D%3D\n",
      "Asuncion: None\n",
      "Athens: https://plus.unsplash.com/premium_photo-1661963720399-b0d05bee9005?q=80&w=1000&auto=format&fit=crop&ixlib=rb-4.0.3&ixid=M3wxMjA3fDB8MHxzZWFyY2h8NXx8YXRoZW5zJTIwY2l0eXxlbnwwfHwwfHx8MA%3D%3D\n",
      "Atlanta: https://plus.unsplash.com/premium_photo-1697729751156-68f01255334c?q=80&w=1000&auto=format&fit=crop&ixlib=rb-4.0.3&ixid=M3wxMjA3fDB8MHxzZWFyY2h8NXx8YXRsYW50YSUyMGNpdHl8ZW58MHx8MHx8fDA%3D\n",
      "Auckland: https://plus.unsplash.com/premium_photo-1661963939186-973fd7a5c452?q=80&w=1000&auto=format&fit=crop&ixlib=rb-4.0.3&ixid=M3wxMjA3fDB8MHxzZWFyY2h8NXx8YXVja2xhbmQlMjBjaXR5fGVufDB8fDB8fHww\n",
      "Austin: None\n",
      "Baku: https://plus.unsplash.com/premium_photo-1668989819989-96e1f5b463bb?q=80&w=1000&auto=format&fit=crop&ixlib=rb-4.0.3&ixid=M3wxMjA3fDB8MHxzZWFyY2h8NXx8YmFrdSUyMGNpdHl8ZW58MHx8MHx8fDA%3D\n",
      "Bali: https://plus.unsplash.com/premium_photo-1682091797376-746281809b6d?q=80&w=1000&auto=format&fit=crop&ixlib=rb-4.0.3&ixid=M3wxMjA3fDB8MHxzZWFyY2h8NXx8YmFsaSUyMGNpdHl8ZW58MHx8MHx8fDA%3D\n",
      "Baltimore: https://plus.unsplash.com/premium_photo-1712828731398-ad18ac5a9748?q=80&w=1000&auto=format&fit=crop&ixlib=rb-4.0.3&ixid=M3wxMjA3fDB8MHxzZWFyY2h8NXx8YmFsdGltb3JlJTIwY2l0eXxlbnwwfHwwfHx8MA%3D%3D\n",
      "Bangkok: https://plus.unsplash.com/premium_photo-1661963804020-e93b8d27139e?q=80&w=1000&auto=format&fit=crop&ixlib=rb-4.0.3&ixid=M3wxMjA3fDB8MHxzZWFyY2h8NXx8YmFuZ2tvayUyMGNpdHl8ZW58MHx8MHx8fDA%3D\n",
      "Barcelona: None\n",
      "Beijing: https://plus.unsplash.com/premium_photo-1676468709110-1c7d2110185b?q=80&w=1000&auto=format&fit=crop&ixlib=rb-4.0.3&ixid=M3wxMjA3fDB8MHxzZWFyY2h8NXx8YmVpamluZyUyMGNpdHl8ZW58MHx8MHx8fDA%3D\n",
      "Beirut: https://plus.unsplash.com/premium_photo-1673138824704-344104aec465?q=80&w=1000&auto=format&fit=crop&ixlib=rb-4.0.3&ixid=M3wxMjA3fDB8MHxzZWFyY2h8NXx8YmVpcnV0JTIwY2l0eXxlbnwwfHwwfHx8MA%3D%3D\n",
      "Belfast: https://plus.unsplash.com/premium_photo-1685114647364-f08289339e7f?q=80&w=1000&auto=format&fit=crop&ixlib=rb-4.0.3&ixid=M3wxMjA3fDB8MHxzZWFyY2h8NXx8YmVsZmFzdCUyMGNpdHl8ZW58MHx8MHx8fDA%3D\n",
      "Belgrade: https://plus.unsplash.com/premium_photo-1711983163047-b8b48f5e399e?q=80&w=1000&auto=format&fit=crop&ixlib=rb-4.0.3&ixid=M3wxMjA3fDB8MHxzZWFyY2h8NXx8YmVsZ3JhZGUlMjBjaXR5fGVufDB8fDB8fHww\n",
      "Belize City: https://plus.unsplash.com/premium_photo-1675314234288-75cc922c4cb2?q=80&w=1000&auto=format&fit=crop&ixlib=rb-4.0.3&ixid=M3wxMjA3fDB8MHxzZWFyY2h8NXx8YmVsaXplJTIwY2l0eXxlbnwwfHwwfHx8MA%3D%3D\n",
      "Bengaluru: https://plus.unsplash.com/premium_photo-1678134981702-b0af52598332?q=80&w=1000&auto=format&fit=crop&ixlib=rb-4.0.3&ixid=M3wxMjA3fDB8MHxzZWFyY2h8NXx8YmVuZ2FsdXJ1JTIwY2l0eXxlbnwwfHwwfHx8MA%3D%3D\n",
      "Bergen: None\n",
      "Berlin: https://plus.unsplash.com/premium_photo-1680281936362-aff258ecd143?q=80&w=1000&auto=format&fit=crop&ixlib=rb-4.0.3&ixid=M3wxMjA3fDB8MHxzZWFyY2h8NXx8YmVybGluJTIwY2l0eXxlbnwwfHwwfHx8MA%3D%3D\n",
      "Bern: None\n",
      "Bilbao: https://plus.unsplash.com/premium_photo-1697729429126-7ee9de9dbb94?q=80&w=1000&auto=format&fit=crop&ixlib=rb-4.0.3&ixid=M3wxMjA3fDB8MHxzZWFyY2h8NXx8YmlsYmFvJTIwY2l0eXxlbnwwfHwwfHx8MA%3D%3D\n",
      "Birmingham: https://plus.unsplash.com/premium_photo-1713364681376-2314bdbff3cf?q=80&w=1000&auto=format&fit=crop&ixlib=rb-4.0.3&ixid=M3wxMjA3fDB8MHxzZWFyY2h8NXx8YmlybWluZ2hhbSUyMGNpdHl8ZW58MHx8MHx8fDA%3D\n"
     ]
    }
   ],
   "source": [
    "new_results = {}\n",
    "for old_name, new_name in zip(cities[:30], processed_cities[:30]):\n",
    "    print(f\"{old_name}: {results[new_name]}\")\n",
    "    new_results[old_name] = results[new_name]\n",
    "\n",
    "with open('city_image_urls_2.json', 'w') as file:\n",
    "    json.dump(new_results, file, indent=2)"
   ]
  },
  {
   "cell_type": "code",
   "execution_count": null,
   "metadata": {},
   "outputs": [],
   "source": []
  }
 ],
 "metadata": {
  "kernelspec": {
   "display_name": "lewagon",
   "language": "python",
   "name": "python3"
  },
  "language_info": {
   "codemirror_mode": {
    "name": "ipython",
    "version": 3
   },
   "file_extension": ".py",
   "mimetype": "text/x-python",
   "name": "python",
   "nbconvert_exporter": "python",
   "pygments_lexer": "ipython3",
   "version": "3.10.6"
  }
 },
 "nbformat": 4,
 "nbformat_minor": 2
}
