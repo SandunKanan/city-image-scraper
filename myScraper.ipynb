{
 "cells": [
  {
   "cell_type": "code",
   "execution_count": 1,
   "metadata": {},
   "outputs": [],
   "source": [
    "import requests\n",
    "from bs4 import BeautifulSoup\n",
    "\n",
    "import numpy as np\n",
    "import pandas as pd\n",
    "\n",
    "%matplotlib inline\n",
    "import matplotlib"
   ]
  },
  {
   "cell_type": "code",
   "execution_count": 8,
   "metadata": {},
   "outputs": [
    {
     "name": "stdout",
     "output_type": "stream",
     "text": [
      "['aarhus-city', 'adelaide-city', 'albuquerque-city', 'almaty-city', 'amsterdam-city', 'anchorage-city', 'andorra-city', 'ankara-city', 'asheville-city', 'asuncion-city', 'athens-city', 'atlanta-city', 'auckland-city', 'austin-city', 'baku-city', 'bali-city', 'baltimore-city', 'bangkok-city', 'barcelona-city', 'beijing-city', 'beirut-city', 'belfast-city', 'belgrade-city', 'belize-city', 'bengaluru-city', 'bergen-city', 'berlin-city', 'bern-city', 'bilbao-city', 'birmingham-city', 'birmingham,-al-city', 'bogota-city', 'boise-city', 'bologna-city', 'bordeaux-city', 'boston-city', 'boulder-city', 'bozeman-city', 'bratislava-city', 'brighton-city', 'brisbane-city', 'bristol-city', 'brno-city', 'brussels-city', 'bucharest-city', 'budapest-city', 'buenos-aires-city', 'buffalo-city', 'cairo-city', 'calgary-city', 'cambridge-city', 'cape-town-city', 'caracas-city', 'cardiff-city', 'casablanca-city', 'charleston-city', 'charlotte-city', 'chattanooga-city', 'chennai-city', 'chiang-mai-city', 'chicago-city', 'chisinau-city', 'christchurch-city', 'cincinnati-city', 'cleveland-city', 'cluj-napoca-city', 'cologne-city', 'colorado-springs-city', 'columbus-city', 'copenhagen-city', 'cork-city', 'curitiba-city', 'dallas-city', 'dar-es-salaam-city', 'delhi-city', 'denver-city', 'des-moines-city', 'detroit-city', 'doha-city', 'dresden-city', 'dubai-city', 'dublin-city', 'dusseldorf-city', 'edinburgh-city', 'edmonton-city', 'eindhoven-city', 'eugene-city', 'florence-city', 'florianopolis-city', 'fort-collins-city', 'frankfurt-city', 'fukuoka-city', 'galway-city', 'gdansk-city', 'geneva-city', 'gibraltar-city', 'glasgow-city', 'gothenburg-city', 'grenoble-city', 'guadalajara-city', 'guatemala-city', 'halifax-city', 'hamburg-city', 'hannover-city', 'havana-city', 'helsinki-city', 'ho-chi-minh-city', 'hong-kong-city', 'honolulu-city', 'houston-city', 'hyderabad-city', 'indianapolis-city', 'innsbruck-city', 'istanbul-city', 'jacksonville-city', 'jakarta-city', 'johannesburg-city', 'kansas-city', 'karlsruhe-city', 'kathmandu-city', 'kiev-city', 'kingston-city', 'knoxville-city', 'krakow-city', 'kuala-lumpur-city', 'kyoto-city', 'lagos-city', 'la-paz-city', 'las-palmas-de-gran-canaria-city', 'las-vegas-city', 'lausanne-city', 'leeds-city', 'leipzig-city', 'lille-city', 'lima-city', 'lisbon-city', 'liverpool-city', 'ljubljana-city', 'london-city', 'los-angeles-city', 'louisville-city', 'luxembourg-city', 'lviv-city', 'lyon-city', 'madison-city', 'madrid-city', 'malaga-city', 'malmo-city', 'managua-city', 'manchester-city', 'manila-city', 'marseille-city', 'medellin-city', 'melbourne-city', 'memphis-city', 'mexico-city', 'miami-city', 'milan-city', 'milwaukee-city', 'minneapolis-saint-paul-city', 'minsk-city', 'montevideo-city', 'montreal-city', 'moscow-city', 'mumbai-city', 'munich-city', 'nairobi-city', 'nantes-city', 'naples-city', 'nashville-city', 'new-orleans-city', 'new-york-city', 'nice-city', 'nicosia-city', 'oklahoma-city', 'omaha-city', 'orlando-city', 'osaka-city', 'oslo-city', 'ottawa-city', 'oulu-city', 'oxford-city', 'palo-alto-city', 'panama-city', 'paris-city', 'perth-city', 'philadelphia-city', 'phnom-penh-city', 'phoenix-city', 'phuket-city', 'pittsburgh-city', 'portland,-me-city', 'portland,-or-city', 'porto-city', 'porto-alegre-city', 'prague-city', 'providence-city', 'quebec-city', 'quito-city', 'raleigh-city', 'reykjavik-city', 'richmond-city', 'riga-city', 'rio-de-janeiro-city', 'riyadh-city', 'rochester-city', 'rome-city', 'rotterdam-city', 'saint-petersburg-city', 'salt-lake-city', 'san-antonio-city', 'san-diego-city', 'san-francisco-bay-area-city', 'san-jose-city', 'san-juan-city', 'san-luis-obispo-city', 'san-salvador-city', 'santiago-city', 'santo-domingo-city', 'sao-paulo-city', 'sarajevo-city', 'saskatoon-city', 'seattle-city', 'seoul-city', 'seville-city', 'shanghai-city', 'singapore-city', 'skopje-city', 'sofia-city', 'st.-louis-city', 'stockholm-city', 'stuttgart-city', 'sydney-city', 'taipei-city', 'tallinn-city', 'tampa-bay-area-city', 'tampere-city', 'tartu-city', 'tashkent-city', 'tbilisi-city', 'tehran-city', 'tel-aviv-city', 'the-hague-city', 'thessaloniki-city', 'tokyo-city', 'toronto-city', 'toulouse-city', 'tunis-city', 'turin-city', 'turku-city', 'uppsala-city', 'utrecht-city', 'valencia-city', 'valletta-city', 'vancouver-city', 'victoria-city', 'vienna-city', 'vilnius-city', 'warsaw-city', 'washington,-d.c.-city', 'wellington-city', 'winnipeg-city', 'wroclaw-city', 'yerevan-city', 'zagreb-city', 'zurich-city']\n"
     ]
    }
   ],
   "source": [
    "import json\n",
    "\n",
    "# Load the list of cities from the JSON file\n",
    "with open('urban_area_list.json', 'r') as file:\n",
    "    cities = json.load(file)\n",
    "\n",
    "# Process each city name\n",
    "processed_cities = []\n",
    "for city in cities:\n",
    "    city_lower = city.lower().replace(\" \", \"-\")\n",
    "    if not city_lower.endswith(\"-city\"):\n",
    "        city_lower += \"-city\"\n",
    "    processed_cities.append(city_lower)\n",
    "\n",
    "# Print the processed list\n",
    "print(processed_cities)\n",
    "\n",
    "# Optionally, save the processed list to a new JSON file\n",
    "with open('processed_urban_area_list.json', 'w') as file:\n",
    "    json.dump(processed_cities, file, indent=2)\n"
   ]
  },
  {
   "cell_type": "code",
   "execution_count": 7,
   "metadata": {},
   "outputs": [
    {
     "name": "stdout",
     "output_type": "stream",
     "text": [
      "HTML content saved to los-angeles-city.html\n",
      "https://plus.unsplash.com/premium_photo-1661865883617-5d8c16858a17?q=80&w=1000&auto=format&fit=crop&ixlib=rb-4.0.3&ixid=M3wxMjA3fDB8MHxzZWFyY2h8MXx8bG9zJTIwYW5nZWxlcyUyMGNpdHl8ZW58MHx8MHx8fDA%3D\n",
      "https://plus.unsplash.com/premium_photo-1664303893976-e2f635373666?q=80&w=1000&auto=format&fit=crop&ixlib=rb-4.0.3&ixid=M3wxMjA3fDB8MHxzZWFyY2h8NXx8bG9zJTIwYW5nZWxlcyUyMGNpdHl8ZW58MHx8MHx8fDA%3D\n",
      "https://plus.unsplash.com/premium_photo-1661871317420-55bfc0895b4e?q=80&w=1000&auto=format&fit=crop&ixlib=rb-4.0.3&ixid=M3wxMjA3fDB8MHxzZWFyY2h8OXx8bG9zJTIwYW5nZWxlcyUyMGNpdHl8ZW58MHx8MHx8fDA%3D\n",
      "https://plus.unsplash.com/premium_photo-1694475331179-11fa3c87060e?q=80&w=1000&auto=format&fit=crop&ixlib=rb-4.0.3&ixid=M3wxMjA3fDB8MHxzZWFyY2h8MTN8fGxvcyUyMGFuZ2VsZXMlMjBjaXR5fGVufDB8fDB8fHww\n",
      "https://plus.unsplash.com/premium_photo-1664303841975-a47234e91587?q=80&w=1000&auto=format&fit=crop&ixlib=rb-4.0.3&ixid=M3wxMjA3fDB8MHxzZWFyY2h8MTd8fGxvcyUyMGFuZ2VsZXMlMjBjaXR5fGVufDB8fDB8fHww\n",
      "https://plus.unsplash.com/premium_photo-1661865883617-5d8c16858a17?q=80&w=1000&auto=format&fit=crop&ixlib=rb-4.0.3&ixid=M3wxMjA3fDB8MHxzZWFyY2h8MXx8bG9zJTIwYW5nZWxlcyUyMGNpdHl8ZW58MHx8MHx8fDA%3D\n",
      "https://plus.unsplash.com/premium_photo-1694475331179-11fa3c87060e?q=80&w=1000&auto=format&fit=crop&ixlib=rb-4.0.3&ixid=M3wxMjA3fDB8MHxzZWFyY2h8MTN8fGxvcyUyMGFuZ2VsZXMlMjBjaXR5fGVufDB8fDB8fHww\n",
      "https://plus.unsplash.com/premium_photo-1664303893976-e2f635373666?q=80&w=1000&auto=format&fit=crop&ixlib=rb-4.0.3&ixid=M3wxMjA3fDB8MHxzZWFyY2h8NXx8bG9zJTIwYW5nZWxlcyUyMGNpdHl8ZW58MHx8MHx8fDA%3D\n",
      "https://plus.unsplash.com/premium_photo-1661871317420-55bfc0895b4e?q=80&w=1000&auto=format&fit=crop&ixlib=rb-4.0.3&ixid=M3wxMjA3fDB8MHxzZWFyY2h8OXx8bG9zJTIwYW5nZWxlcyUyMGNpdHl8ZW58MHx8MHx8fDA%3D\n",
      "https://plus.unsplash.com/premium_photo-1664303841975-a47234e91587?q=80&w=1000&auto=format&fit=crop&ixlib=rb-4.0.3&ixid=M3wxMjA3fDB8MHxzZWFyY2h8MTd8fGxvcyUyMGFuZ2VsZXMlMjBjaXR5fGVufDB8fDB8fHww\n",
      "https://plus.unsplash.com/premium_photo-1661865883617-5d8c16858a17?q=80&w=1000&auto=format&fit=crop&ixlib=rb-4.0.3&ixid=M3wxMjA3fDB8MHxzZWFyY2h8MXx8bG9zJTIwYW5nZWxlcyUyMGNpdHl8ZW58MHx8MHx8fDA%3D\n",
      "https://plus.unsplash.com/premium_photo-1694475331179-11fa3c87060e?q=80&w=1000&auto=format&fit=crop&ixlib=rb-4.0.3&ixid=M3wxMjA3fDB8MHxzZWFyY2h8MTN8fGxvcyUyMGFuZ2VsZXMlMjBjaXR5fGVufDB8fDB8fHww\n",
      "https://plus.unsplash.com/premium_photo-1661871317420-55bfc0895b4e?q=80&w=1000&auto=format&fit=crop&ixlib=rb-4.0.3&ixid=M3wxMjA3fDB8MHxzZWFyY2h8OXx8bG9zJTIwYW5nZWxlcyUyMGNpdHl8ZW58MHx8MHx8fDA%3D\n",
      "https://plus.unsplash.com/premium_photo-1664303841975-a47234e91587?q=80&w=1000&auto=format&fit=crop&ixlib=rb-4.0.3&ixid=M3wxMjA3fDB8MHxzZWFyY2h8MTd8fGxvcyUyMGFuZ2VsZXMlMjBjaXR5fGVufDB8fDB8fHww\n",
      "https://plus.unsplash.com/premium_photo-1664303893976-e2f635373666?q=80&w=1000&auto=format&fit=crop&ixlib=rb-4.0.3&ixid=M3wxMjA3fDB8MHxzZWFyY2h8NXx8bG9zJTIwYW5nZWxlcyUyMGNpdHl8ZW58MHx8MHx8fDA%3D\n"
     ]
    }
   ],
   "source": [
    "city = \"los-angeles-city\"\n",
    "url = f\"https://unsplash.com/s/photos/{city}\"\n",
    "\n",
    "response = requests.get(url)\n",
    "soup = BeautifulSoup(response.content, \"html.parser\")\n",
    "\n",
    "# Save the parsed HTML content to a local file\n",
    "with open(f\"{city}.html\", \"w\", encoding=\"utf-8\") as file:\n",
    "    file.write(str(soup.prettify()))\n",
    "\n",
    "print(f\"HTML content saved to {city}.html\")\n",
    "\n",
    "\n",
    "# Find all `img` tags\n",
    "img_tags = soup.find_all(\"img\")\n",
    "\n",
    "# Extract the `src` attribute from each `img` tag that starts with \"https://plus.unsplash.com/\"\n",
    "img_urls = [img['src'] for img in img_tags if 'src' in img.attrs and img['src'].startswith(\"https://plus.unsplash.com/\")]\n",
    "\n",
    "# Optionally, save the URLs to a file\n",
    "with open(\"plus_unsplash_image_urls.txt\", \"w\") as file:\n",
    "    for url in img_urls:\n",
    "        file.write(url + \"\\n\")\n",
    "\n",
    "# Print the extracted URLs\n",
    "for url in img_urls:\n",
    "    print(url)"
   ]
  },
  {
   "cell_type": "code",
   "execution_count": 11,
   "metadata": {},
   "outputs": [
    {
     "name": "stdout",
     "output_type": "stream",
     "text": [
      "aarhus-city:\n",
      "https://plus.unsplash.com/premium_photo-1715954843149-84d682442e6a?q=80&w=1000&auto=format&fit=crop&ixlib=rb-4.0.3&ixid=M3wxMjA3fDB8MHxzZWFyY2h8NXx8YWFyaHVzJTIwY2l0eXxlbnwwfHwwfHx8MA%3D%3D /n\n",
      "adelaide-city:\n",
      "https://plus.unsplash.com/premium_photo-1715954843149-84d682442e6a?q=80&w=1000&auto=format&fit=crop&ixlib=rb-4.0.3&ixid=M3wxMjA3fDB8MHxzZWFyY2h8NXx8YWRlbGFpZGUlMjBjaXR5fGVufDB8fDB8fHww /n\n",
      "albuquerque-city:\n",
      "https://plus.unsplash.com/premium_photo-1672097247790-234855b64f1a?q=80&w=1000&auto=format&fit=crop&ixlib=rb-4.0.3&ixid=M3wxMjA3fDB8MHxzZWFyY2h8NXx8YWxidXF1ZXJxdWUlMjBjaXR5fGVufDB8fDB8fHww /n\n",
      "almaty-city:\n",
      "https://plus.unsplash.com/premium_photo-1675419760565-4a9077f0971d?q=80&w=1000&auto=format&fit=crop&ixlib=rb-4.0.3&ixid=M3wxMjA3fDB8MHxzZWFyY2h8NXx8YWxtYXR5JTIwY2l0eXxlbnwwfHwwfHx8MA%3D%3D /n\n",
      "amsterdam-city:\n",
      "https://plus.unsplash.com/premium_photo-1677653126467-fb0fc59a9cde?q=80&w=1000&auto=format&fit=crop&ixlib=rb-4.0.3&ixid=M3wxMjA3fDB8MHxzZWFyY2h8NXx8YW1zdGVyZGFtJTIwY2l0eXxlbnwwfHwwfHx8MA%3D%3D /n\n"
     ]
    }
   ],
   "source": [
    "for city in processed_cities:\n",
    "    url = f\"https://unsplash.com/s/photos/{city}\"\n",
    "\n",
    "    response = requests.get(url)\n",
    "    soup = BeautifulSoup(response.content, \"html.parser\")\n",
    "\n",
    "    # Find all `img` tags\n",
    "    img_tags = soup.find_all(\"img\")\n",
    "\n",
    "    # Extract the `src` attribute from each `img` tag that starts with \"https://plus.unsplash.com/\"\n",
    "    img_urls = [img['src'] for img in img_tags if 'src' in img.attrs and img['src'].startswith(\"https://plus.unsplash.com/\")]\n",
    "\n",
    "    print(f\"{city}:\")\n",
    "    print(img_urls[1], \"/n\") if len(img_urls) > 1 else print(\"No images found\")\n"
   ]
  },
  {
   "cell_type": "code",
   "execution_count": 21,
   "metadata": {},
   "outputs": [
    {
     "name": "stdout",
     "output_type": "stream",
     "text": [
      "Pittsburgh: https://plus.unsplash.com/premium_photo-1697730008646-42bd968d70c9?q=80&w=1000&auto=format&fit=crop&ixlib=rb-4.0.3&ixid=M3wxMjA3fDB8MHxzZWFyY2h8NXx8cGl0dHNidXJnaCUyMGNpdHl8ZW58MHx8MHx8fDA%3D\n",
      "Portland, ME: None\n",
      "Portland, OR: None\n",
      "Porto: https://plus.unsplash.com/premium_photo-1679047749875-5de4b28b6a92?q=80&w=1000&auto=format&fit=crop&ixlib=rb-4.0.3&ixid=M3wxMjA3fDB8MHxzZWFyY2h8NXx8cG9ydG8lMjBjaXR5fGVufDB8fDB8fHww\n",
      "Porto Alegre: https://plus.unsplash.com/premium_photo-1697729911993-626a3e2c44eb?q=80&w=1000&auto=format&fit=crop&ixlib=rb-4.0.3&ixid=M3wxMjA3fDB8MHxzZWFyY2h8NXx8cG9ydG8lMjBhbGVncmUlMjBjaXR5fGVufDB8fDB8fHww\n",
      "Prague: https://plus.unsplash.com/premium_photo-1661963139522-22525f644234?q=80&w=1000&auto=format&fit=crop&ixlib=rb-4.0.3&ixid=M3wxMjA3fDB8MHxzZWFyY2h8NXx8cHJhZ3VlJTIwY2l0eXxlbnwwfHwwfHx8MA%3D%3D\n",
      "Providence: None\n",
      "Quebec: https://plus.unsplash.com/premium_photo-1694475041575-21ecaf24ca2e?q=80&w=1000&auto=format&fit=crop&ixlib=rb-4.0.3&ixid=M3wxMjA3fDB8MHxzZWFyY2h8NXx8cXVlYmVjJTIwY2l0eXxlbnwwfHwwfHx8MA%3D%3D\n",
      "Quito: None\n",
      "Raleigh: None\n",
      "Reykjavik: https://plus.unsplash.com/premium_photo-1697730035716-5abdb84c128e?q=80&w=1000&auto=format&fit=crop&ixlib=rb-4.0.3&ixid=M3wxMjA3fDB8MHxzZWFyY2h8NXx8cmV5a2phdmlrJTIwY2l0eXxlbnwwfHwwfHx8MA%3D%3D\n",
      "Richmond: None\n",
      "Riga: https://plus.unsplash.com/premium_photo-1697729884879-668c8f6a5819?q=80&w=1000&auto=format&fit=crop&ixlib=rb-4.0.3&ixid=M3wxMjA3fDB8MHxzZWFyY2h8NXx8cmlnYSUyMGNpdHl8ZW58MHx8MHx8fDA%3D\n",
      "Rio De Janeiro: https://plus.unsplash.com/premium_photo-1679957359291-fea63e8dd4fd?q=80&w=1000&auto=format&fit=crop&ixlib=rb-4.0.3&ixid=M3wxMjA3fDB8MHxzZWFyY2h8NXx8cmlvJTIwZGUlMjBqYW5laXJvJTIwY2l0eXxlbnwwfHwwfHx8MA%3D%3D\n",
      "Riyadh: https://plus.unsplash.com/premium_photo-1661963100207-d92645c85417?q=80&w=1000&auto=format&fit=crop&ixlib=rb-4.0.3&ixid=M3wxMjA3fDB8MHxzZWFyY2h8NXx8cml5YWRoJTIwY2l0eXxlbnwwfHwwfHx8MA%3D%3D\n",
      "Rochester: https://plus.unsplash.com/premium_photo-1706800283316-a8959c19b1c4?q=80&w=1000&auto=format&fit=crop&ixlib=rb-4.0.3&ixid=M3wxMjA3fDB8MHxzZWFyY2h8NXx8cm9jaGVzdGVyJTIwY2l0eXxlbnwwfHwwfHx8MA%3D%3D\n",
      "Rome: None\n",
      "Rotterdam: https://plus.unsplash.com/premium_photo-1661874836011-b566efa88855?q=80&w=1000&auto=format&fit=crop&ixlib=rb-4.0.3&ixid=M3wxMjA3fDB8MHxzZWFyY2h8NXx8cm90dGVyZGFtJTIwY2l0eXxlbnwwfHwwfHx8MA%3D%3D\n",
      "Saint Petersburg: None\n",
      "Salt Lake City: https://plus.unsplash.com/premium_photo-1695827731416-466fbc19fd0e?q=80&w=1000&auto=format&fit=crop&ixlib=rb-4.0.3&ixid=M3wxMjA3fDB8MHxzZWFyY2h8NXx8c2FsdCUyMGxha2UlMjBjaXR5fGVufDB8fDB8fHww\n",
      "San Antonio: None\n",
      "San Diego: None\n",
      "San Francisco Bay Area: https://plus.unsplash.com/premium_photo-1682403136717-77c9b41a52b8?q=80&w=1000&auto=format&fit=crop&ixlib=rb-4.0.3&ixid=M3wxMjA3fDB8MHxzZWFyY2h8NXx8c2FuJTIwZnJhbmNpc2NvJTIwYmF5JTIwYXJlYSUyMGNpdHl8ZW58MHx8MHx8fDA%3D\n",
      "San Jose: None\n",
      "San Juan: https://plus.unsplash.com/premium_photo-1661915385428-ecb46efcf12c?q=80&w=1000&auto=format&fit=crop&ixlib=rb-4.0.3&ixid=M3wxMjA3fDB8MHxzZWFyY2h8NXx8c2FuJTIwanVhbiUyMGNpdHl8ZW58MHx8MHx8fDA%3D\n",
      "San Luis Obispo: https://plus.unsplash.com/premium_photo-1697729598110-32cdfebc3b45?q=80&w=1000&auto=format&fit=crop&ixlib=rb-4.0.3&ixid=M3wxMjA3fDB8MHxzZWFyY2h8NXx8c2FuJTIwbHVpcyUyMG9iaXNwbyUyMGNpdHl8ZW58MHx8MHx8fDA%3D\n",
      "San Salvador: https://plus.unsplash.com/premium_photo-1676930214276-de5113efce20?q=80&w=1000&auto=format&fit=crop&ixlib=rb-4.0.3&ixid=M3wxMjA3fDB8MHxzZWFyY2h8NXx8c2FuJTIwc2FsdmFkb3IlMjBjaXR5fGVufDB8fDB8fHww\n",
      "Santiago: https://plus.unsplash.com/premium_photo-1697729571980-a51775b58662?q=80&w=1000&auto=format&fit=crop&ixlib=rb-4.0.3&ixid=M3wxMjA3fDB8MHxzZWFyY2h8NXx8c2FudGlhZ28lMjBjaXR5fGVufDB8fDB8fHww\n",
      "Santo Domingo: https://plus.unsplash.com/premium_photo-1678593494445-7729804f7903?q=80&w=1000&auto=format&fit=crop&ixlib=rb-4.0.3&ixid=M3wxMjA3fDB8MHxzZWFyY2h8MXx8c2FudG8lMjBkb21pbmdvJTIwY2l0eXxlbnwwfHwwfHx8MA%3D%3D\n",
      "Sao Paulo: None\n",
      "Sarajevo: https://plus.unsplash.com/premium_photo-1669047983472-1eeb3a5ea6a5?q=80&w=1000&auto=format&fit=crop&ixlib=rb-4.0.3&ixid=M3wxMjA3fDB8MHxzZWFyY2h8NXx8c2FyYWpldm8lMjBjaXR5fGVufDB8fDB8fHww\n",
      "Saskatoon: https://plus.unsplash.com/premium_photo-1674160595179-9f427026f9de?q=80&w=1000&auto=format&fit=crop&ixlib=rb-4.0.3&ixid=M3wxMjA3fDB8MHxzZWFyY2h8NXx8c2Fza2F0b29uJTIwY2l0eXxlbnwwfHwwfHx8MA%3D%3D\n",
      "Seattle: https://plus.unsplash.com/premium_photo-1680366287071-f8ff28b9db13?q=80&w=1000&auto=format&fit=crop&ixlib=rb-4.0.3&ixid=M3wxMjA3fDB8MHxzZWFyY2h8NXx8c2VhdHRsZSUyMGNpdHl8ZW58MHx8MHx8fDA%3D\n",
      "Seoul: https://plus.unsplash.com/premium_photo-1661948404806-391a240d6d40?q=80&w=1000&auto=format&fit=crop&ixlib=rb-4.0.3&ixid=M3wxMjA3fDB8MHxzZWFyY2h8NXx8c2VvdWwlMjBjaXR5fGVufDB8fDB8fHww\n",
      "Seville: None\n",
      "Shanghai: https://plus.unsplash.com/premium_photo-1682091926971-5f493aaac631?q=80&w=1000&auto=format&fit=crop&ixlib=rb-4.0.3&ixid=M3wxMjA3fDB8MHxzZWFyY2h8NXx8c2hhbmdoYWklMjBjaXR5fGVufDB8fDB8fHww\n",
      "Singapore: https://plus.unsplash.com/premium_photo-1697730367384-b3c2e3f0d733?q=80&w=1000&auto=format&fit=crop&ixlib=rb-4.0.3&ixid=M3wxMjA3fDB8MHxzZWFyY2h8NXx8c2luZ2Fwb3JlJTIwY2l0eXxlbnwwfHwwfHx8MA%3D%3D\n",
      "Skopje: None\n",
      "Sofia: https://plus.unsplash.com/premium_photo-1677620678919-610361b77a2e?q=80&w=1000&auto=format&fit=crop&ixlib=rb-4.0.3&ixid=M3wxMjA3fDB8MHxzZWFyY2h8NXx8c29maWElMjBjaXR5fGVufDB8fDB8fHww\n",
      "St. Louis: https://plus.unsplash.com/premium_photo-1715954843149-84d682442e6a?q=80&w=1000&auto=format&fit=crop&ixlib=rb-4.0.3&ixid=M3wxMjA3fDB8MHxzZWFyY2h8NXx8c3QuJTIwbG91aXMlMjBjaXR5fGVufDB8fDB8fHww\n",
      "Stockholm: https://plus.unsplash.com/premium_photo-1697730258678-0ce09cfb9adc?q=80&w=1000&auto=format&fit=crop&ixlib=rb-4.0.3&ixid=M3wxMjA3fDB8MHxzZWFyY2h8NXx8c3RvY2tob2xtJTIwY2l0eXxlbnwwfHwwfHx8MA%3D%3D\n",
      "Stuttgart: https://plus.unsplash.com/premium_photo-1688069516535-357d3d4ef131?q=80&w=1000&auto=format&fit=crop&ixlib=rb-4.0.3&ixid=M3wxMjA3fDB8MHxzZWFyY2h8NXx8c3R1dHRnYXJ0JTIwY2l0eXxlbnwwfHwwfHx8MA%3D%3D\n",
      "Sydney: https://plus.unsplash.com/premium_photo-1661881903643-574667aa88a7?q=80&w=1000&auto=format&fit=crop&ixlib=rb-4.0.3&ixid=M3wxMjA3fDB8MHxzZWFyY2h8NXx8c3lkbmV5JTIwY2l0eXxlbnwwfHwwfHx8MA%3D%3D\n",
      "Taipei: https://plus.unsplash.com/premium_photo-1661955975506-04d3812be312?q=80&w=1000&auto=format&fit=crop&ixlib=rb-4.0.3&ixid=M3wxMjA3fDB8MHxzZWFyY2h8NXx8dGFpcGVpJTIwY2l0eXxlbnwwfHwwfHx8MA%3D%3D\n",
      "Tallinn: https://plus.unsplash.com/premium_photo-1677048148032-40f0797fb5a8?q=80&w=1000&auto=format&fit=crop&ixlib=rb-4.0.3&ixid=M3wxMjA3fDB8MHxzZWFyY2h8NXx8dGFsbGlubiUyMGNpdHl8ZW58MHx8MHx8fDA%3D\n",
      "Tampa Bay Area: https://plus.unsplash.com/premium_photo-1663133752932-3757e32a644b?q=80&w=1000&auto=format&fit=crop&ixlib=rb-4.0.3&ixid=M3wxMjA3fDB8MHxzZWFyY2h8NXx8dGFtcGElMjBiYXklMjBhcmVhJTIwY2l0eXxlbnwwfHwwfHx8MA%3D%3D\n",
      "Tampere: https://plus.unsplash.com/premium_photo-1685114647471-46f2fc552bd9?q=80&w=1000&auto=format&fit=crop&ixlib=rb-4.0.3&ixid=M3wxMjA3fDB8MHxzZWFyY2h8NXx8dGFtcGVyZSUyMGNpdHl8ZW58MHx8MHx8fDA%3D\n",
      "Tartu: None\n",
      "Tashkent: https://plus.unsplash.com/premium_photo-1678316899460-42c35917db10?q=80&w=1000&auto=format&fit=crop&ixlib=rb-4.0.3&ixid=M3wxMjA3fDB8MHxzZWFyY2h8NXx8dGFzaGtlbnQlMjBjaXR5fGVufDB8fDB8fHww\n",
      "Tbilisi: None\n",
      "Tehran: https://plus.unsplash.com/premium_photo-1697730206215-d1dcaa5917d7?q=80&w=1000&auto=format&fit=crop&ixlib=rb-4.0.3&ixid=M3wxMjA3fDB8MHxzZWFyY2h8NXx8dGVocmFuJTIwY2l0eXxlbnwwfHwwfHx8MA%3D%3D\n",
      "Tel Aviv: https://plus.unsplash.com/premium_photo-1697730177654-75dfc22bc231?q=80&w=1000&auto=format&fit=crop&ixlib=rb-4.0.3&ixid=M3wxMjA3fDB8MHxzZWFyY2h8NXx8dGVsJTIwYXZpdiUyMGNpdHl8ZW58MHx8MHx8fDA%3D\n",
      "The Hague: https://plus.unsplash.com/premium_photo-1661957925180-dfcf3737a617?q=80&w=1000&auto=format&fit=crop&ixlib=rb-4.0.3&ixid=M3wxMjA3fDB8MHxzZWFyY2h8NXx8dGhlJTIwaGFndWUlMjBjaXR5fGVufDB8fDB8fHww\n",
      "Thessaloniki: None\n",
      "Tokyo: https://plus.unsplash.com/premium_photo-1675148247638-fb5c8db249a2?q=80&w=1000&auto=format&fit=crop&ixlib=rb-4.0.3&ixid=M3wxMjA3fDB8MHxzZWFyY2h8NXx8dG9reW8lMjBjaXR5fGVufDB8fDB8fHww\n",
      "Toronto: https://plus.unsplash.com/premium_photo-1694475393287-88027e0fbde4?q=80&w=1000&auto=format&fit=crop&ixlib=rb-4.0.3&ixid=M3wxMjA3fDB8MHxzZWFyY2h8NXx8dG9yb250byUyMGNpdHl8ZW58MHx8MHx8fDA%3D\n",
      "Toulouse: None\n",
      "Tunis: https://plus.unsplash.com/premium_photo-1697729911993-626a3e2c44eb?q=80&w=1000&auto=format&fit=crop&ixlib=rb-4.0.3&ixid=M3wxMjA3fDB8MHxzZWFyY2h8NXx8dHVuaXMlMjBjaXR5fGVufDB8fDB8fHww\n",
      "Turin: https://plus.unsplash.com/premium_photo-1664297469963-e6cf3ada621b?q=80&w=1000&auto=format&fit=crop&ixlib=rb-4.0.3&ixid=M3wxMjA3fDB8MHxzZWFyY2h8NXx8dHVyaW4lMjBjaXR5fGVufDB8fDB8fHww\n",
      "Turku: https://plus.unsplash.com/premium_photo-1661955588369-b0d28de38b45?q=80&w=1000&auto=format&fit=crop&ixlib=rb-4.0.3&ixid=M3wxMjA3fDB8MHxzZWFyY2h8NXx8dHVya3UlMjBjaXR5fGVufDB8fDB8fHww\n",
      "Uppsala: None\n",
      "Utrecht: None\n",
      "Valencia: https://plus.unsplash.com/premium_photo-1697729423504-70c4c9d87033?q=80&w=1000&auto=format&fit=crop&ixlib=rb-4.0.3&ixid=M3wxMjA3fDB8MHxzZWFyY2h8NXx8dmFsZW5jaWElMjBjaXR5fGVufDB8fDB8fHww\n",
      "Valletta: https://plus.unsplash.com/premium_photo-1673561231809-17f6f9ef09b7?q=80&w=1000&auto=format&fit=crop&ixlib=rb-4.0.3&ixid=M3wxMjA3fDB8MHxzZWFyY2h8NXx8dmFsbGV0dGElMjBjaXR5fGVufDB8fDB8fHww\n",
      "Vancouver: https://plus.unsplash.com/premium_photo-1694475217524-d502634e57b2?q=80&w=1000&auto=format&fit=crop&ixlib=rb-4.0.3&ixid=M3wxMjA3fDB8MHxzZWFyY2h8NXx8dmFuY291dmVyJTIwY2l0eXxlbnwwfHwwfHx8MA%3D%3D\n",
      "Victoria: None\n",
      "Vienna: https://plus.unsplash.com/premium_photo-1661925387774-b1ba6b7bb0ad?q=80&w=1000&auto=format&fit=crop&ixlib=rb-4.0.3&ixid=M3wxMjA3fDB8MHxzZWFyY2h8NXx8dmllbm5hJTIwY2l0eXxlbnwwfHwwfHx8MA%3D%3D\n",
      "Vilnius: https://plus.unsplash.com/premium_photo-1669047983472-1eeb3a5ea6a5?q=80&w=1000&auto=format&fit=crop&ixlib=rb-4.0.3&ixid=M3wxMjA3fDB8MHxzZWFyY2h8NXx8dmlsbml1cyUyMGNpdHl8ZW58MHx8MHx8fDA%3D\n",
      "Warsaw: https://plus.unsplash.com/premium_photo-1690122041588-101ecf4733cc?q=80&w=1000&auto=format&fit=crop&ixlib=rb-4.0.3&ixid=M3wxMjA3fDB8MHxzZWFyY2h8NXx8d2Fyc2F3JTIwY2l0eXxlbnwwfHwwfHx8MA%3D%3D\n",
      "Washington, D.C.: None\n",
      "Wellington: None\n",
      "Winnipeg: None\n",
      "Wroclaw: https://plus.unsplash.com/premium_photo-1675419760565-4a9077f0971d?q=80&w=1000&auto=format&fit=crop&ixlib=rb-4.0.3&ixid=M3wxMjA3fDB8MHxzZWFyY2h8NXx8d3JvY2xhdyUyMGNpdHl8ZW58MHx8MHx8fDA%3D\n",
      "Yerevan: https://plus.unsplash.com/premium_photo-1661934402599-7cb20c105a7b?q=80&w=1000&auto=format&fit=crop&ixlib=rb-4.0.3&ixid=M3wxMjA3fDB8MHxzZWFyY2h8NXx8eWVyZXZhbiUyMGNpdHl8ZW58MHx8MHx8fDA%3D\n",
      "Zagreb: https://plus.unsplash.com/premium_photo-1661963764503-b27e30dfc70f?q=80&w=1000&auto=format&fit=crop&ixlib=rb-4.0.3&ixid=M3wxMjA3fDB8MHxzZWFyY2h8NXx8emFncmViJTIwY2l0eXxlbnwwfHwwfHx8MA%3D%3D\n",
      "Zurich: None\n",
      "Results saved to city_image_urls_2.json\n"
     ]
    }
   ],
   "source": [
    "# Dictionary to store the results\n",
    "results_2 = {}\n",
    "\n",
    "# Fetch image URLs for each city\n",
    "for city, orig_city in zip(processed_cities[190:], cities[190:]):\n",
    "    url = f\"https://unsplash.com/s/photos/{city}\"\n",
    "\n",
    "    response = requests.get(url)\n",
    "    soup = BeautifulSoup(response.content, \"html.parser\")\n",
    "\n",
    "    # Find all `img` tags\n",
    "    img_tags = soup.find_all(\"img\")\n",
    "\n",
    "    # Extract the `src` attribute from each `img` tag that starts with \"https://plus.unsplash.com/\"\n",
    "    img_urls = [img['src'] for img in img_tags if 'src' in img.attrs and img['src'].startswith(\"https://plus.unsplash.com/\")]\n",
    "\n",
    "    # Use the second image if available, otherwise use null\n",
    "    if len(img_urls) > 1:\n",
    "        results_2[orig_city] = img_urls[1]\n",
    "    else:\n",
    "        results_2[orig_city] = None\n",
    "\n",
    "    # Print the results for debugging purposes\n",
    "    print(f\"{orig_city}: {results_2[orig_city]}\")\n",
    "\n",
    "    # Sleep for 1 second between requests\n",
    "    # time.sleep(1)\n",
    "\n",
    "# Write the results to a JSON file\n",
    "with open('city_image_urls_2.json', 'w') as file:\n",
    "    json.dump(results_2, file, indent=2)\n",
    "\n",
    "print(\"Results saved to city_image_urls_2.json\")"
   ]
  },
  {
   "cell_type": "code",
   "execution_count": 20,
   "metadata": {},
   "outputs": [],
   "source": [
    "# Write the results to a JSON file\n",
    "with open('city_image_urls.json', 'w') as file:\n",
    "    json.dump(results, file, indent=2)\n"
   ]
  },
  {
   "cell_type": "code",
   "execution_count": 17,
   "metadata": {},
   "outputs": [
    {
     "name": "stdout",
     "output_type": "stream",
     "text": [
      "Aarhus: https://plus.unsplash.com/premium_photo-1715954843149-84d682442e6a?q=80&w=1000&auto=format&fit=crop&ixlib=rb-4.0.3&ixid=M3wxMjA3fDB8MHxzZWFyY2h8NXx8YWFyaHVzJTIwY2l0eXxlbnwwfHwwfHx8MA%3D%3D\n",
      "Adelaide: https://plus.unsplash.com/premium_photo-1715954843149-84d682442e6a?q=80&w=1000&auto=format&fit=crop&ixlib=rb-4.0.3&ixid=M3wxMjA3fDB8MHxzZWFyY2h8NXx8YWRlbGFpZGUlMjBjaXR5fGVufDB8fDB8fHww\n",
      "Albuquerque: https://plus.unsplash.com/premium_photo-1672097247790-234855b64f1a?q=80&w=1000&auto=format&fit=crop&ixlib=rb-4.0.3&ixid=M3wxMjA3fDB8MHxzZWFyY2h8NXx8YWxidXF1ZXJxdWUlMjBjaXR5fGVufDB8fDB8fHww\n",
      "Almaty: https://plus.unsplash.com/premium_photo-1675419760565-4a9077f0971d?q=80&w=1000&auto=format&fit=crop&ixlib=rb-4.0.3&ixid=M3wxMjA3fDB8MHxzZWFyY2h8NXx8YWxtYXR5JTIwY2l0eXxlbnwwfHwwfHx8MA%3D%3D\n",
      "Amsterdam: https://plus.unsplash.com/premium_photo-1677653126467-fb0fc59a9cde?q=80&w=1000&auto=format&fit=crop&ixlib=rb-4.0.3&ixid=M3wxMjA3fDB8MHxzZWFyY2h8NXx8YW1zdGVyZGFtJTIwY2l0eXxlbnwwfHwwfHx8MA%3D%3D\n",
      "Anchorage: https://plus.unsplash.com/premium_photo-1694475442325-4e0055fe2dac?q=80&w=1000&auto=format&fit=crop&ixlib=rb-4.0.3&ixid=M3wxMjA3fDB8MHxzZWFyY2h8NXx8YW5jaG9yYWdlJTIwY2l0eXxlbnwwfHwwfHx8MA%3D%3D\n",
      "Andorra: None\n",
      "Ankara: https://plus.unsplash.com/premium_photo-1712727635489-44446d0f0969?q=80&w=1000&auto=format&fit=crop&ixlib=rb-4.0.3&ixid=M3wxMjA3fDB8MHxzZWFyY2h8NXx8YW5rYXJhJTIwY2l0eXxlbnwwfHwwfHx8MA%3D%3D\n",
      "Asheville: https://plus.unsplash.com/premium_photo-1674160595863-e5a29e4a695b?q=80&w=1000&auto=format&fit=crop&ixlib=rb-4.0.3&ixid=M3wxMjA3fDB8MHxzZWFyY2h8NXx8YXNoZXZpbGxlJTIwY2l0eXxlbnwwfHwwfHx8MA%3D%3D\n",
      "Asuncion: None\n",
      "Athens: https://plus.unsplash.com/premium_photo-1661963720399-b0d05bee9005?q=80&w=1000&auto=format&fit=crop&ixlib=rb-4.0.3&ixid=M3wxMjA3fDB8MHxzZWFyY2h8NXx8YXRoZW5zJTIwY2l0eXxlbnwwfHwwfHx8MA%3D%3D\n",
      "Atlanta: https://plus.unsplash.com/premium_photo-1697729751156-68f01255334c?q=80&w=1000&auto=format&fit=crop&ixlib=rb-4.0.3&ixid=M3wxMjA3fDB8MHxzZWFyY2h8NXx8YXRsYW50YSUyMGNpdHl8ZW58MHx8MHx8fDA%3D\n",
      "Auckland: https://plus.unsplash.com/premium_photo-1661963939186-973fd7a5c452?q=80&w=1000&auto=format&fit=crop&ixlib=rb-4.0.3&ixid=M3wxMjA3fDB8MHxzZWFyY2h8NXx8YXVja2xhbmQlMjBjaXR5fGVufDB8fDB8fHww\n",
      "Austin: None\n",
      "Baku: https://plus.unsplash.com/premium_photo-1668989819989-96e1f5b463bb?q=80&w=1000&auto=format&fit=crop&ixlib=rb-4.0.3&ixid=M3wxMjA3fDB8MHxzZWFyY2h8NXx8YmFrdSUyMGNpdHl8ZW58MHx8MHx8fDA%3D\n",
      "Bali: https://plus.unsplash.com/premium_photo-1682091797376-746281809b6d?q=80&w=1000&auto=format&fit=crop&ixlib=rb-4.0.3&ixid=M3wxMjA3fDB8MHxzZWFyY2h8NXx8YmFsaSUyMGNpdHl8ZW58MHx8MHx8fDA%3D\n",
      "Baltimore: https://plus.unsplash.com/premium_photo-1712828731398-ad18ac5a9748?q=80&w=1000&auto=format&fit=crop&ixlib=rb-4.0.3&ixid=M3wxMjA3fDB8MHxzZWFyY2h8NXx8YmFsdGltb3JlJTIwY2l0eXxlbnwwfHwwfHx8MA%3D%3D\n",
      "Bangkok: https://plus.unsplash.com/premium_photo-1661963804020-e93b8d27139e?q=80&w=1000&auto=format&fit=crop&ixlib=rb-4.0.3&ixid=M3wxMjA3fDB8MHxzZWFyY2h8NXx8YmFuZ2tvayUyMGNpdHl8ZW58MHx8MHx8fDA%3D\n",
      "Barcelona: None\n",
      "Beijing: https://plus.unsplash.com/premium_photo-1676468709110-1c7d2110185b?q=80&w=1000&auto=format&fit=crop&ixlib=rb-4.0.3&ixid=M3wxMjA3fDB8MHxzZWFyY2h8NXx8YmVpamluZyUyMGNpdHl8ZW58MHx8MHx8fDA%3D\n",
      "Beirut: https://plus.unsplash.com/premium_photo-1673138824704-344104aec465?q=80&w=1000&auto=format&fit=crop&ixlib=rb-4.0.3&ixid=M3wxMjA3fDB8MHxzZWFyY2h8NXx8YmVpcnV0JTIwY2l0eXxlbnwwfHwwfHx8MA%3D%3D\n",
      "Belfast: https://plus.unsplash.com/premium_photo-1685114647364-f08289339e7f?q=80&w=1000&auto=format&fit=crop&ixlib=rb-4.0.3&ixid=M3wxMjA3fDB8MHxzZWFyY2h8NXx8YmVsZmFzdCUyMGNpdHl8ZW58MHx8MHx8fDA%3D\n",
      "Belgrade: https://plus.unsplash.com/premium_photo-1711983163047-b8b48f5e399e?q=80&w=1000&auto=format&fit=crop&ixlib=rb-4.0.3&ixid=M3wxMjA3fDB8MHxzZWFyY2h8NXx8YmVsZ3JhZGUlMjBjaXR5fGVufDB8fDB8fHww\n",
      "Belize City: https://plus.unsplash.com/premium_photo-1675314234288-75cc922c4cb2?q=80&w=1000&auto=format&fit=crop&ixlib=rb-4.0.3&ixid=M3wxMjA3fDB8MHxzZWFyY2h8NXx8YmVsaXplJTIwY2l0eXxlbnwwfHwwfHx8MA%3D%3D\n",
      "Bengaluru: https://plus.unsplash.com/premium_photo-1678134981702-b0af52598332?q=80&w=1000&auto=format&fit=crop&ixlib=rb-4.0.3&ixid=M3wxMjA3fDB8MHxzZWFyY2h8NXx8YmVuZ2FsdXJ1JTIwY2l0eXxlbnwwfHwwfHx8MA%3D%3D\n",
      "Bergen: None\n",
      "Berlin: https://plus.unsplash.com/premium_photo-1680281936362-aff258ecd143?q=80&w=1000&auto=format&fit=crop&ixlib=rb-4.0.3&ixid=M3wxMjA3fDB8MHxzZWFyY2h8NXx8YmVybGluJTIwY2l0eXxlbnwwfHwwfHx8MA%3D%3D\n",
      "Bern: None\n",
      "Bilbao: https://plus.unsplash.com/premium_photo-1697729429126-7ee9de9dbb94?q=80&w=1000&auto=format&fit=crop&ixlib=rb-4.0.3&ixid=M3wxMjA3fDB8MHxzZWFyY2h8NXx8YmlsYmFvJTIwY2l0eXxlbnwwfHwwfHx8MA%3D%3D\n",
      "Birmingham: https://plus.unsplash.com/premium_photo-1713364681376-2314bdbff3cf?q=80&w=1000&auto=format&fit=crop&ixlib=rb-4.0.3&ixid=M3wxMjA3fDB8MHxzZWFyY2h8NXx8YmlybWluZ2hhbSUyMGNpdHl8ZW58MHx8MHx8fDA%3D\n"
     ]
    }
   ],
   "source": [
    "new_results = {}\n",
    "for old_name, new_name in zip(cities[:30], processed_cities[:30]):\n",
    "    print(f\"{old_name}: {results[new_name]}\")\n",
    "    new_results[old_name] = results[new_name]\n",
    "\n",
    "with open('city_image_urls_2.json', 'w') as file:\n",
    "    json.dump(new_results, file, indent=2)"
   ]
  },
  {
   "cell_type": "code",
   "execution_count": null,
   "metadata": {},
   "outputs": [],
   "source": []
  }
 ],
 "metadata": {
  "kernelspec": {
   "display_name": "lewagon",
   "language": "python",
   "name": "python3"
  },
  "language_info": {
   "codemirror_mode": {
    "name": "ipython",
    "version": 3
   },
   "file_extension": ".py",
   "mimetype": "text/x-python",
   "name": "python",
   "nbconvert_exporter": "python",
   "pygments_lexer": "ipython3",
   "version": "3.10.6"
  }
 },
 "nbformat": 4,
 "nbformat_minor": 2
}
