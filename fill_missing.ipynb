{
 "cells": [
  {
   "cell_type": "code",
   "execution_count": 1,
   "metadata": {},
   "outputs": [],
   "source": [
    "import requests\n",
    "from bs4 import BeautifulSoup\n",
    "\n",
    "import numpy as np\n",
    "import pandas as pd\n",
    "\n",
    "%matplotlib inline\n",
    "import matplotlib"
   ]
  },
  {
   "cell_type": "code",
   "execution_count": 13,
   "metadata": {},
   "outputs": [],
   "source": [
    "# Load all city images from json\n",
    "import json\n",
    "with open('./JSON/city_image_urls.json') as f:\n",
    "    city_images = json.load(f)\n",
    "\n",
    "def get_first_image(city):\n",
    "    # remove punctuation from city\n",
    "    city = city.replace(',', '')\n",
    "    city = city.replace('.', '')\n",
    "    city = city.replace(' ', '-')\n",
    "    city = city.lower()\n",
    "\n",
    "    url = f\"https://unsplash.com/s/photos/{city}\"\n",
    "\n",
    "    response = requests.get(url)\n",
    "    soup = BeautifulSoup(response.content, \"html.parser\")\n",
    "\n",
    "    # Find all `img` tags\n",
    "    img_tags = soup.find_all(\"img\")\n",
    "\n",
    "    # Extract the `src` attribute from each `img` tag that starts with \"https://plus.unsplash.com/\"\n",
    "    img_urls = [img['src'] for img in img_tags if 'src' in img.attrs and img['src'].startswith(\"https://plus.unsplash.com/\")]\n",
    "\n",
    "    # Use the second image if available, otherwise use null\n",
    "    if len(img_urls) > 1:\n",
    "        print(city, img_urls[1])\n",
    "        return img_urls[1]\n",
    "    elif len(img_urls) > 0:\n",
    "        print(city, img_urls[0])\n",
    "        return img_urls[0]\n",
    "    else:\n",
    "        print(city, None)\n",
    "        return None\n",
    "\n",
    "for city in city_images:\n",
    "    if city_images[city] == None:\n",
    "        city_images[city] = get_first_image(city)\n",
    "    # print(city, city_images[city])\n",
    "\n",
    "with open('city_image_urls_2.json', 'w') as file:\n",
    "    json.dump(city_images, file, indent=2)"
   ]
  },
  {
   "cell_type": "code",
   "execution_count": null,
   "metadata": {},
   "outputs": [],
   "source": []
  }
 ],
 "metadata": {
  "kernelspec": {
   "display_name": "lewagon",
   "language": "python",
   "name": "python3"
  },
  "language_info": {
   "codemirror_mode": {
    "name": "ipython",
    "version": 3
   },
   "file_extension": ".py",
   "mimetype": "text/x-python",
   "name": "python",
   "nbconvert_exporter": "python",
   "pygments_lexer": "ipython3",
   "version": "3.10.6"
  }
 },
 "nbformat": 4,
 "nbformat_minor": 2
}
